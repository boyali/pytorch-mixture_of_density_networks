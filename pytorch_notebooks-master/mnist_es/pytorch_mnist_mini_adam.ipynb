{
 "cells": [
  {
   "cell_type": "code",
   "execution_count": 1,
   "metadata": {
    "collapsed": true
   },
   "outputs": [],
   "source": [
    "import numpy as np\n",
    "\n",
    "import torch\n",
    "import torch.nn as nn\n",
    "import torch.nn.functional as F\n",
    "import torch.optim as optim\n",
    "from torchvision import datasets, transforms\n",
    "from torch.autograd import Variable\n",
    "from collections import namedtuple\n",
    "\n",
    "from PIL import Image\n",
    "import os\n",
    "import os.path\n",
    "import errno\n",
    "import codecs\n",
    "import copy"
   ]
  },
  {
   "cell_type": "code",
   "execution_count": 2,
   "metadata": {},
   "outputs": [
    {
     "name": "stdout",
     "output_type": "stream",
     "text": [
      "torch.cuda.device_count() 4\n",
      "torch.cuda.current_device() 0\n"
     ]
    },
    {
     "data": {
      "text/plain": [
       "1"
      ]
     },
     "execution_count": 2,
     "metadata": {},
     "output_type": "execute_result"
    }
   ],
   "source": [
    "torch.manual_seed(0)\n",
    "np.random.seed(0)\n",
    "print(\"torch.cuda.device_count()\", torch.cuda.device_count())\n",
    "print(\"torch.cuda.current_device()\", torch.cuda.current_device())\n",
    "torch.cuda.set_device(1)\n",
    "print(\"torch.cuda.current_device()\", torch.cuda.current_device())"
   ]
  },
  {
   "cell_type": "code",
   "execution_count": 3,
   "metadata": {
    "collapsed": true
   },
   "outputs": [],
   "source": [
    "class MNIST(torch.utils.data.Dataset):\n",
    "  \"\"\"`MNIST <http://yann.lecun.com/exdb/mnist/>`_ Dataset.\n",
    "  Args:\n",
    "    root (string): Root directory of dataset where ``processed/training.pt``\n",
    "      and  ``processed/test.pt`` exist.\n",
    "    dataset (string): If `train` or `valid`, creates dataset from ``training.pt``,\n",
    "      otherwise from ``test.pt``.\n",
    "    download (bool, optional): If true, downloads the dataset from the internet and\n",
    "      puts it in root directory. If dataset is already downloaded, it is not\n",
    "      downloaded again.\n",
    "    transform (callable, optional): A function/transform that  takes in an PIL image\n",
    "      and returns a transformed version. E.g, ``transforms.RandomCrop``\n",
    "    target_transform (callable, optional): A function/transform that takes in the\n",
    "      target and transforms it.\n",
    "  \"\"\"\n",
    "  urls = [\n",
    "    'http://yann.lecun.com/exdb/mnist/train-images-idx3-ubyte.gz',\n",
    "    'http://yann.lecun.com/exdb/mnist/train-labels-idx1-ubyte.gz',\n",
    "    'http://yann.lecun.com/exdb/mnist/t10k-images-idx3-ubyte.gz',\n",
    "    'http://yann.lecun.com/exdb/mnist/t10k-labels-idx1-ubyte.gz',\n",
    "  ]\n",
    "  raw_folder = 'raw'\n",
    "  processed_folder = 'processed'\n",
    "  training_file = 'training.pt'\n",
    "  test_file = 'test.pt'\n",
    "\n",
    "  def __init__(self, root, dataset='train', transform=None, target_transform=None, download=False):\n",
    "    self.root = os.path.expanduser(root)\n",
    "    self.transform = transform\n",
    "    self.target_transform = target_transform\n",
    "    self.dataset = dataset  # 'train', 'valid', or 'test'\n",
    "    self.cutoff = 50000 # split between train vs validation\n",
    "\n",
    "    if download:\n",
    "      self.download()\n",
    "\n",
    "    if not self._check_exists():\n",
    "      raise RuntimeError('Dataset not found.' +\n",
    "                        ' You can use download=True to download it')\n",
    "\n",
    "    if self.dataset == 'train' or self.dataset == 'valid':\n",
    "      full_train_data, full_train_labels = torch.load(os.path.join(root, self.processed_folder, self.training_file))\n",
    "      if self.dataset == 'train':\n",
    "        self.data = full_train_data[:self.cutoff]\n",
    "        self.labels = full_train_labels[:self.cutoff]\n",
    "      else:\n",
    "        self.data = full_train_data[self.cutoff:]\n",
    "        self.labels = full_train_labels[self.cutoff:]\n",
    "    else:\n",
    "      self.data, self.labels = torch.load(os.path.join(root, self.processed_folder, self.test_file))\n",
    "\n",
    "  def __getitem__(self, index):\n",
    "      \"\"\"\n",
    "      Args:\n",
    "        index (int): Index\n",
    "      Returns:\n",
    "        tuple: (image, target) where target is index of the target class.\n",
    "      \"\"\"\n",
    "      img, target = self.data[index], self.labels[index]\n",
    "\n",
    "      # doing this so that it is consistent with all other datasets\n",
    "      # to return a PIL Image\n",
    "      img = Image.fromarray(img.numpy(), mode='L')\n",
    "\n",
    "      if self.transform is not None:\n",
    "        img = self.transform(img)\n",
    "\n",
    "      if self.target_transform is not None:\n",
    "        target = self.target_transform(target)\n",
    "\n",
    "      return img, target\n",
    "\n",
    "  def __len__(self):\n",
    "    return len(self.data)\n",
    "\n",
    "  def _check_exists(self):\n",
    "    return os.path.exists(os.path.join(self.root, self.processed_folder, self.training_file)) and \\\n",
    "      os.path.exists(os.path.join(self.root, self.processed_folder, self.test_file))\n",
    "\n",
    "  def download(self):\n",
    "    \"\"\"Download the MNIST data if it doesn't exist in processed_folder already.\"\"\"\n",
    "    from six.moves import urllib\n",
    "    import gzip\n",
    "\n",
    "    if self._check_exists():\n",
    "      return\n",
    "\n",
    "    # download files\n",
    "    try:\n",
    "      os.makedirs(os.path.join(self.root, self.raw_folder))\n",
    "      os.makedirs(os.path.join(self.root, self.processed_folder))\n",
    "    except OSError as e:\n",
    "      if e.errno == errno.EEXIST:\n",
    "        pass\n",
    "      else:\n",
    "        raise\n",
    "\n",
    "    for url in self.urls:\n",
    "      print('Downloading ' + url)\n",
    "      data = urllib.request.urlopen(url)\n",
    "      filename = url.rpartition('/')[2]\n",
    "      file_path = os.path.join(self.root, self.raw_folder, filename)\n",
    "      with open(file_path, 'wb') as f:\n",
    "          f.write(data.read())\n",
    "      with open(file_path.replace('.gz', ''), 'wb') as out_f, \\\n",
    "              gzip.GzipFile(file_path) as zip_f:\n",
    "          out_f.write(zip_f.read())\n",
    "      os.unlink(file_path)\n",
    "\n",
    "    # process and save as torch files\n",
    "    print('Processing...')\n",
    "\n",
    "    training_set = (\n",
    "      read_image_file(os.path.join(self.root, self.raw_folder, 'train-images-idx3-ubyte')),\n",
    "      read_label_file(os.path.join(self.root, self.raw_folder, 'train-labels-idx1-ubyte'))\n",
    "    )\n",
    "    test_set = (\n",
    "      read_image_file(os.path.join(self.root, self.raw_folder, 't10k-images-idx3-ubyte')),\n",
    "      read_label_file(os.path.join(self.root, self.raw_folder, 't10k-labels-idx1-ubyte'))\n",
    "    )\n",
    "    with open(os.path.join(self.root, self.processed_folder, self.training_file), 'wb') as f:\n",
    "      torch.save(training_set, f)\n",
    "    with open(os.path.join(self.root, self.processed_folder, self.test_file), 'wb') as f:\n",
    "      torch.save(test_set, f)\n",
    "\n",
    "    print('Done!')\n",
    "\n",
    "\n",
    "def get_int(b):\n",
    "  return int(codecs.encode(b, 'hex'), 16)\n",
    "\n",
    "\n",
    "def parse_byte(b):\n",
    "  if isinstance(b, str):\n",
    "    return ord(b)\n",
    "  return b\n",
    "\n",
    "\n",
    "def read_label_file(path):\n",
    "  with open(path, 'rb') as f:\n",
    "    data = f.read()\n",
    "    assert get_int(data[:4]) == 2049\n",
    "    length = get_int(data[4:8])\n",
    "    labels = [parse_byte(b) for b in data[8:]]\n",
    "    assert len(labels) == length\n",
    "    return torch.LongTensor(labels)\n",
    "\n",
    "\n",
    "def read_image_file(path):\n",
    "  with open(path, 'rb') as f:\n",
    "    data = f.read()\n",
    "    assert get_int(data[:4]) == 2051\n",
    "    length = get_int(data[4:8])\n",
    "    num_rows = get_int(data[8:12])\n",
    "    num_cols = get_int(data[12:16])\n",
    "    images = []\n",
    "    idx = 16\n",
    "    for l in range(length):\n",
    "      img = []\n",
    "      images.append(img)\n",
    "      for r in range(num_rows):\n",
    "        row = []\n",
    "        img.append(row)\n",
    "        for c in range(num_cols):\n",
    "          row.append(parse_byte(data[idx]))\n",
    "          idx += 1\n",
    "    assert len(images) == length\n",
    "    return torch.ByteTensor(images).view(-1, 28, 28)\n"
   ]
  },
  {
   "cell_type": "code",
   "execution_count": 4,
   "metadata": {
    "collapsed": true
   },
   "outputs": [],
   "source": [
    "Args = namedtuple('Args', ['batch_size', 'test_batch_size', 'epochs', 'lr', 'cuda', 'seed', 'log_interval'])"
   ]
  },
  {
   "cell_type": "code",
   "execution_count": 5,
   "metadata": {
    "collapsed": true
   },
   "outputs": [],
   "source": [
    "args = Args(batch_size=1000, test_batch_size=1000, epochs=30, lr=0.001, cuda=True, seed=0, log_interval=10)"
   ]
  },
  {
   "cell_type": "code",
   "execution_count": 6,
   "metadata": {
    "collapsed": true
   },
   "outputs": [],
   "source": [
    "torch.manual_seed(args.seed)\n",
    "if args.cuda:\n",
    "  torch.cuda.manual_seed(args.seed)"
   ]
  },
  {
   "cell_type": "code",
   "execution_count": 7,
   "metadata": {
    "collapsed": true
   },
   "outputs": [],
   "source": [
    "kwargs = {'num_workers': 1, 'pin_memory': True} if args.cuda else {}\n",
    "\n",
    "train_loader = torch.utils.data.DataLoader(\n",
    "  MNIST('MNIST_data', dataset='train', download=True, transform=transforms.Compose([transforms.ToTensor(), transforms.Normalize((0.1307,), (0.3081,))])),\n",
    "  batch_size=args.batch_size, shuffle=True, **kwargs)\n",
    "\n",
    "valid_loader = torch.utils.data.DataLoader(\n",
    "  MNIST('MNIST_data', dataset='valid', download=True, transform=transforms.Compose([transforms.ToTensor(), transforms.Normalize((0.1307,), (0.3081,))])),\n",
    "  batch_size=args.batch_size, shuffle=True, **kwargs)\n",
    "\n",
    "test_loader = torch.utils.data.DataLoader(\n",
    "  MNIST('MNIST_data', dataset='test', transform=transforms.Compose([transforms.ToTensor(),transforms.Normalize((0.1307,), (0.3081,))])),\n",
    "  batch_size=args.batch_size, shuffle=True, **kwargs)"
   ]
  },
  {
   "cell_type": "code",
   "execution_count": 8,
   "metadata": {
    "collapsed": true
   },
   "outputs": [],
   "source": [
    "class Net(nn.Module):\n",
    "  def __init__(self):\n",
    "    super(Net, self).__init__()\n",
    "    self.num_filter1 = 8\n",
    "    self.num_filter2 = 16\n",
    "    self.num_padding = 2\n",
    "    # input is 28x28\n",
    "    # padding=2 for same padding\n",
    "    self.conv1 = nn.Conv2d(1, self.num_filter1, 5, padding=self.num_padding)\n",
    "    # feature map size is 14*14 by pooling\n",
    "    # padding=2 for same padding\n",
    "    self.conv2 = nn.Conv2d(self.num_filter1, self.num_filter2, 5, padding=self.num_padding)\n",
    "    # feature map size is 7*7 by pooling\n",
    "    self.fc = nn.Linear(self.num_filter2*7*7, 10)\n",
    "\n",
    "  def forward(self, x):\n",
    "    x = F.max_pool2d(F.relu(self.conv1(x)), 2)\n",
    "    x = F.max_pool2d(F.relu(self.conv2(x)), 2)\n",
    "    x = x.view(-1, self.num_filter2*7*7)   # reshape Variable\n",
    "    x = self.fc(x)\n",
    "    return F.log_softmax(x)"
   ]
  },
  {
   "cell_type": "code",
   "execution_count": 9,
   "metadata": {
    "collapsed": true
   },
   "outputs": [],
   "source": [
    "model = Net()\n",
    "if args.cuda:\n",
    "  model.cuda()\n",
    "\n",
    "orig_model = copy.deepcopy(model)\n",
    "\n",
    "optimizer = torch.optim.Adam(model.parameters(), lr=args.lr)"
   ]
  },
  {
   "cell_type": "code",
   "execution_count": 10,
   "metadata": {
    "collapsed": true
   },
   "outputs": [],
   "source": [
    "def train(epoch, model, train_loader):\n",
    "  model.train()\n",
    "  for batch_idx, (data, target) in enumerate(train_loader):\n",
    "    if args.cuda:\n",
    "      data, target = data.cuda(), target.cuda()\n",
    "    data, target = Variable(data), Variable(target)\n",
    "    optimizer.zero_grad()\n",
    "    output = model(data)\n",
    "    loss = F.nll_loss(output, target)\n",
    "    loss.backward()\n",
    "    optimizer.step()\n",
    "    if batch_idx % args.log_interval == 0:\n",
    "      print('Train Epoch: {} [{}/{} ({:.0f}%)]\\tLoss: {:.6f}'.format(\n",
    "            epoch, batch_idx * len(data), len(train_loader.dataset),\n",
    "            100. * batch_idx / len(train_loader), loss.data[0]))"
   ]
  },
  {
   "cell_type": "code",
   "execution_count": 11,
   "metadata": {
    "collapsed": true
   },
   "outputs": [],
   "source": [
    "def evaluate(model, test_loader):\n",
    "  model.eval()\n",
    "  test_loss = 0\n",
    "  correct = 0\n",
    "  for data, target in test_loader:\n",
    "    if args.cuda:\n",
    "      data, target = data.cuda(), target.cuda()\n",
    "    data, target = Variable(data, volatile=True), Variable(target)\n",
    "    output = model(data)\n",
    "    test_loss += F.nll_loss(output, target, size_average=False).data[0] # sum up batch loss\n",
    "    pred = output.data.max(1, keepdim=True)[1] # get the index of the max log-probability\n",
    "    correct += pred.eq(target.data.view_as(pred)).cpu().sum()\n",
    "\n",
    "  test_loss /= len(test_loader.dataset)\n",
    "  acc = correct / len(test_loader.dataset)\n",
    "  print('\\nAverage loss: {:.4f}, Accuracy: {}/{} ({:.4f}%)\\n'.format(\n",
    "    test_loss, correct, len(test_loader.dataset),\n",
    "    100. * acc))\n",
    "  return acc"
   ]
  },
  {
   "cell_type": "code",
   "execution_count": 12,
   "metadata": {},
   "outputs": [
    {
     "name": "stdout",
     "output_type": "stream",
     "text": [
      "Train Epoch: 1 [0/50000 (0%)]\tLoss: 2.303826\n",
      "Train Epoch: 1 [10000/50000 (20%)]\tLoss: 1.677860\n",
      "Train Epoch: 1 [20000/50000 (40%)]\tLoss: 0.841788\n",
      "Train Epoch: 1 [30000/50000 (60%)]\tLoss: 0.508113\n",
      "Train Epoch: 1 [40000/50000 (80%)]\tLoss: 0.429086\n",
      "\n",
      "Average loss: 0.3061, Accuracy: 9138/10000 (91.3800%)\n",
      "\n",
      "best valid_acc 91.38\n",
      "Train Epoch: 2 [0/50000 (0%)]\tLoss: 0.322196\n",
      "Train Epoch: 2 [10000/50000 (20%)]\tLoss: 0.280522\n",
      "Train Epoch: 2 [20000/50000 (40%)]\tLoss: 0.266068\n",
      "Train Epoch: 2 [30000/50000 (60%)]\tLoss: 0.249113\n",
      "Train Epoch: 2 [40000/50000 (80%)]\tLoss: 0.212267\n",
      "\n",
      "Average loss: 0.1894, Accuracy: 9464/10000 (94.6400%)\n",
      "\n",
      "best valid_acc 94.64\n",
      "Train Epoch: 3 [0/50000 (0%)]\tLoss: 0.169671\n",
      "Train Epoch: 3 [10000/50000 (20%)]\tLoss: 0.187899\n",
      "Train Epoch: 3 [20000/50000 (40%)]\tLoss: 0.179214\n",
      "Train Epoch: 3 [30000/50000 (60%)]\tLoss: 0.184280\n",
      "Train Epoch: 3 [40000/50000 (80%)]\tLoss: 0.199595\n",
      "\n",
      "Average loss: 0.1434, Accuracy: 9612/10000 (96.1200%)\n",
      "\n",
      "best valid_acc 96.12\n",
      "Train Epoch: 4 [0/50000 (0%)]\tLoss: 0.142606\n",
      "Train Epoch: 4 [10000/50000 (20%)]\tLoss: 0.128802\n",
      "Train Epoch: 4 [20000/50000 (40%)]\tLoss: 0.115742\n",
      "Train Epoch: 4 [30000/50000 (60%)]\tLoss: 0.123769\n",
      "Train Epoch: 4 [40000/50000 (80%)]\tLoss: 0.124975\n",
      "\n",
      "Average loss: 0.1124, Accuracy: 9696/10000 (96.9600%)\n",
      "\n",
      "best valid_acc 96.96000000000001\n",
      "Train Epoch: 5 [0/50000 (0%)]\tLoss: 0.103727\n",
      "Train Epoch: 5 [10000/50000 (20%)]\tLoss: 0.092302\n",
      "Train Epoch: 5 [20000/50000 (40%)]\tLoss: 0.103799\n",
      "Train Epoch: 5 [30000/50000 (60%)]\tLoss: 0.079889\n",
      "Train Epoch: 5 [40000/50000 (80%)]\tLoss: 0.092919\n",
      "\n",
      "Average loss: 0.0918, Accuracy: 9739/10000 (97.3900%)\n",
      "\n",
      "best valid_acc 97.39\n",
      "Train Epoch: 6 [0/50000 (0%)]\tLoss: 0.083168\n",
      "Train Epoch: 6 [10000/50000 (20%)]\tLoss: 0.110532\n",
      "Train Epoch: 6 [20000/50000 (40%)]\tLoss: 0.093374\n",
      "Train Epoch: 6 [30000/50000 (60%)]\tLoss: 0.075025\n",
      "Train Epoch: 6 [40000/50000 (80%)]\tLoss: 0.095143\n",
      "\n",
      "Average loss: 0.0791, Accuracy: 9771/10000 (97.7100%)\n",
      "\n",
      "best valid_acc 97.71\n",
      "Train Epoch: 7 [0/50000 (0%)]\tLoss: 0.069611\n",
      "Train Epoch: 7 [10000/50000 (20%)]\tLoss: 0.061767\n",
      "Train Epoch: 7 [20000/50000 (40%)]\tLoss: 0.079088\n",
      "Train Epoch: 7 [30000/50000 (60%)]\tLoss: 0.059623\n",
      "Train Epoch: 7 [40000/50000 (80%)]\tLoss: 0.084319\n",
      "\n",
      "Average loss: 0.0741, Accuracy: 9786/10000 (97.8600%)\n",
      "\n",
      "best valid_acc 97.86\n",
      "Train Epoch: 8 [0/50000 (0%)]\tLoss: 0.073275\n",
      "Train Epoch: 8 [10000/50000 (20%)]\tLoss: 0.081987\n",
      "Train Epoch: 8 [20000/50000 (40%)]\tLoss: 0.082448\n",
      "Train Epoch: 8 [30000/50000 (60%)]\tLoss: 0.068978\n",
      "Train Epoch: 8 [40000/50000 (80%)]\tLoss: 0.063742\n",
      "\n",
      "Average loss: 0.0691, Accuracy: 9796/10000 (97.9600%)\n",
      "\n",
      "best valid_acc 97.96000000000001\n",
      "Train Epoch: 9 [0/50000 (0%)]\tLoss: 0.064298\n",
      "Train Epoch: 9 [10000/50000 (20%)]\tLoss: 0.065013\n",
      "Train Epoch: 9 [20000/50000 (40%)]\tLoss: 0.069385\n",
      "Train Epoch: 9 [30000/50000 (60%)]\tLoss: 0.041582\n",
      "Train Epoch: 9 [40000/50000 (80%)]\tLoss: 0.066154\n",
      "\n",
      "Average loss: 0.0631, Accuracy: 9815/10000 (98.1500%)\n",
      "\n",
      "best valid_acc 98.15\n",
      "Train Epoch: 10 [0/50000 (0%)]\tLoss: 0.058424\n",
      "Train Epoch: 10 [10000/50000 (20%)]\tLoss: 0.061783\n",
      "Train Epoch: 10 [20000/50000 (40%)]\tLoss: 0.037734\n",
      "Train Epoch: 10 [30000/50000 (60%)]\tLoss: 0.068406\n",
      "Train Epoch: 10 [40000/50000 (80%)]\tLoss: 0.063054\n",
      "\n",
      "Average loss: 0.0604, Accuracy: 9816/10000 (98.1600%)\n",
      "\n",
      "best valid_acc 98.16\n",
      "Train Epoch: 11 [0/50000 (0%)]\tLoss: 0.038760\n",
      "Train Epoch: 11 [10000/50000 (20%)]\tLoss: 0.064318\n",
      "Train Epoch: 11 [20000/50000 (40%)]\tLoss: 0.044094\n",
      "Train Epoch: 11 [30000/50000 (60%)]\tLoss: 0.053251\n",
      "Train Epoch: 11 [40000/50000 (80%)]\tLoss: 0.041955\n",
      "\n",
      "Average loss: 0.0585, Accuracy: 9827/10000 (98.2700%)\n",
      "\n",
      "best valid_acc 98.27\n",
      "Train Epoch: 12 [0/50000 (0%)]\tLoss: 0.029978\n",
      "Train Epoch: 12 [10000/50000 (20%)]\tLoss: 0.032916\n",
      "Train Epoch: 12 [20000/50000 (40%)]\tLoss: 0.041434\n",
      "Train Epoch: 12 [30000/50000 (60%)]\tLoss: 0.067432\n",
      "Train Epoch: 12 [40000/50000 (80%)]\tLoss: 0.058171\n",
      "\n",
      "Average loss: 0.0535, Accuracy: 9839/10000 (98.3900%)\n",
      "\n",
      "best valid_acc 98.39\n",
      "Train Epoch: 13 [0/50000 (0%)]\tLoss: 0.036091\n",
      "Train Epoch: 13 [10000/50000 (20%)]\tLoss: 0.057308\n",
      "Train Epoch: 13 [20000/50000 (40%)]\tLoss: 0.058362\n",
      "Train Epoch: 13 [30000/50000 (60%)]\tLoss: 0.077994\n",
      "Train Epoch: 13 [40000/50000 (80%)]\tLoss: 0.033563\n",
      "\n",
      "Average loss: 0.0561, Accuracy: 9831/10000 (98.3100%)\n",
      "\n",
      "Train Epoch: 14 [0/50000 (0%)]\tLoss: 0.044331\n",
      "Train Epoch: 14 [10000/50000 (20%)]\tLoss: 0.049645\n",
      "Train Epoch: 14 [20000/50000 (40%)]\tLoss: 0.032262\n",
      "Train Epoch: 14 [30000/50000 (60%)]\tLoss: 0.036172\n",
      "Train Epoch: 14 [40000/50000 (80%)]\tLoss: 0.031683\n",
      "\n",
      "Average loss: 0.0522, Accuracy: 9849/10000 (98.4900%)\n",
      "\n",
      "best valid_acc 98.49\n",
      "Train Epoch: 15 [0/50000 (0%)]\tLoss: 0.034813\n",
      "Train Epoch: 15 [10000/50000 (20%)]\tLoss: 0.046153\n",
      "Train Epoch: 15 [20000/50000 (40%)]\tLoss: 0.041864\n",
      "Train Epoch: 15 [30000/50000 (60%)]\tLoss: 0.027925\n",
      "Train Epoch: 15 [40000/50000 (80%)]\tLoss: 0.033366\n",
      "\n",
      "Average loss: 0.0552, Accuracy: 9841/10000 (98.4100%)\n",
      "\n",
      "Train Epoch: 16 [0/50000 (0%)]\tLoss: 0.031628\n",
      "Train Epoch: 16 [10000/50000 (20%)]\tLoss: 0.035893\n",
      "Train Epoch: 16 [20000/50000 (40%)]\tLoss: 0.057490\n",
      "Train Epoch: 16 [30000/50000 (60%)]\tLoss: 0.041925\n",
      "Train Epoch: 16 [40000/50000 (80%)]\tLoss: 0.034331\n",
      "\n",
      "Average loss: 0.0552, Accuracy: 9839/10000 (98.3900%)\n",
      "\n",
      "Train Epoch: 17 [0/50000 (0%)]\tLoss: 0.028255\n",
      "Train Epoch: 17 [10000/50000 (20%)]\tLoss: 0.034863\n",
      "Train Epoch: 17 [20000/50000 (40%)]\tLoss: 0.038391\n",
      "Train Epoch: 17 [30000/50000 (60%)]\tLoss: 0.037168\n",
      "Train Epoch: 17 [40000/50000 (80%)]\tLoss: 0.034141\n",
      "\n",
      "Average loss: 0.0493, Accuracy: 9858/10000 (98.5800%)\n",
      "\n",
      "best valid_acc 98.58\n",
      "Train Epoch: 18 [0/50000 (0%)]\tLoss: 0.029900\n",
      "Train Epoch: 18 [10000/50000 (20%)]\tLoss: 0.046907\n",
      "Train Epoch: 18 [20000/50000 (40%)]\tLoss: 0.028100\n",
      "Train Epoch: 18 [30000/50000 (60%)]\tLoss: 0.029808\n",
      "Train Epoch: 18 [40000/50000 (80%)]\tLoss: 0.029611\n",
      "\n",
      "Average loss: 0.0473, Accuracy: 9867/10000 (98.6700%)\n",
      "\n",
      "best valid_acc 98.67\n",
      "Train Epoch: 19 [0/50000 (0%)]\tLoss: 0.037320\n",
      "Train Epoch: 19 [10000/50000 (20%)]\tLoss: 0.044111\n",
      "Train Epoch: 19 [20000/50000 (40%)]\tLoss: 0.041239\n",
      "Train Epoch: 19 [30000/50000 (60%)]\tLoss: 0.032999\n",
      "Train Epoch: 19 [40000/50000 (80%)]\tLoss: 0.036658\n",
      "\n",
      "Average loss: 0.0474, Accuracy: 9863/10000 (98.6300%)\n",
      "\n",
      "Train Epoch: 20 [0/50000 (0%)]\tLoss: 0.026344\n",
      "Train Epoch: 20 [10000/50000 (20%)]\tLoss: 0.027241\n",
      "Train Epoch: 20 [20000/50000 (40%)]\tLoss: 0.023188\n",
      "Train Epoch: 20 [30000/50000 (60%)]\tLoss: 0.018313\n",
      "Train Epoch: 20 [40000/50000 (80%)]\tLoss: 0.044020\n",
      "\n",
      "Average loss: 0.0487, Accuracy: 9857/10000 (98.5700%)\n",
      "\n",
      "Train Epoch: 21 [0/50000 (0%)]\tLoss: 0.042182\n",
      "Train Epoch: 21 [10000/50000 (20%)]\tLoss: 0.034582\n",
      "Train Epoch: 21 [20000/50000 (40%)]\tLoss: 0.037214\n",
      "Train Epoch: 21 [30000/50000 (60%)]\tLoss: 0.027711\n",
      "Train Epoch: 21 [40000/50000 (80%)]\tLoss: 0.033280\n",
      "\n",
      "Average loss: 0.0468, Accuracy: 9870/10000 (98.7000%)\n",
      "\n",
      "best valid_acc 98.7\n",
      "Train Epoch: 22 [0/50000 (0%)]\tLoss: 0.023809\n",
      "Train Epoch: 22 [10000/50000 (20%)]\tLoss: 0.030482\n",
      "Train Epoch: 22 [20000/50000 (40%)]\tLoss: 0.026654\n",
      "Train Epoch: 22 [30000/50000 (60%)]\tLoss: 0.021818\n",
      "Train Epoch: 22 [40000/50000 (80%)]\tLoss: 0.022738\n",
      "\n",
      "Average loss: 0.0490, Accuracy: 9862/10000 (98.6200%)\n",
      "\n",
      "Train Epoch: 23 [0/50000 (0%)]\tLoss: 0.024872\n",
      "Train Epoch: 23 [10000/50000 (20%)]\tLoss: 0.042878\n",
      "Train Epoch: 23 [20000/50000 (40%)]\tLoss: 0.031781\n",
      "Train Epoch: 23 [30000/50000 (60%)]\tLoss: 0.025498\n",
      "Train Epoch: 23 [40000/50000 (80%)]\tLoss: 0.030885\n",
      "\n",
      "Average loss: 0.0451, Accuracy: 9873/10000 (98.7300%)\n",
      "\n",
      "best valid_acc 98.72999999999999\n",
      "Train Epoch: 24 [0/50000 (0%)]\tLoss: 0.030728\n",
      "Train Epoch: 24 [10000/50000 (20%)]\tLoss: 0.025797\n",
      "Train Epoch: 24 [20000/50000 (40%)]\tLoss: 0.021019\n",
      "Train Epoch: 24 [30000/50000 (60%)]\tLoss: 0.023815\n",
      "Train Epoch: 24 [40000/50000 (80%)]\tLoss: 0.033169\n",
      "\n",
      "Average loss: 0.0454, Accuracy: 9873/10000 (98.7300%)\n",
      "\n",
      "best valid_acc 98.72999999999999\n",
      "Train Epoch: 25 [0/50000 (0%)]\tLoss: 0.025571\n",
      "Train Epoch: 25 [10000/50000 (20%)]\tLoss: 0.023449\n",
      "Train Epoch: 25 [20000/50000 (40%)]\tLoss: 0.025415\n",
      "Train Epoch: 25 [30000/50000 (60%)]\tLoss: 0.018114\n",
      "Train Epoch: 25 [40000/50000 (80%)]\tLoss: 0.033626\n",
      "\n",
      "Average loss: 0.0482, Accuracy: 9869/10000 (98.6900%)\n",
      "\n",
      "Train Epoch: 26 [0/50000 (0%)]\tLoss: 0.018225\n",
      "Train Epoch: 26 [10000/50000 (20%)]\tLoss: 0.021161\n",
      "Train Epoch: 26 [20000/50000 (40%)]\tLoss: 0.022208\n",
      "Train Epoch: 26 [30000/50000 (60%)]\tLoss: 0.036804\n"
     ]
    },
    {
     "name": "stdout",
     "output_type": "stream",
     "text": [
      "Train Epoch: 26 [40000/50000 (80%)]\tLoss: 0.035899\n",
      "\n",
      "Average loss: 0.0441, Accuracy: 9884/10000 (98.8400%)\n",
      "\n",
      "best valid_acc 98.83999999999999\n",
      "Train Epoch: 27 [0/50000 (0%)]\tLoss: 0.013573\n",
      "Train Epoch: 27 [10000/50000 (20%)]\tLoss: 0.016220\n",
      "Train Epoch: 27 [20000/50000 (40%)]\tLoss: 0.021805\n",
      "Train Epoch: 27 [30000/50000 (60%)]\tLoss: 0.030295\n",
      "Train Epoch: 27 [40000/50000 (80%)]\tLoss: 0.027188\n",
      "\n",
      "Average loss: 0.0431, Accuracy: 9881/10000 (98.8100%)\n",
      "\n",
      "Train Epoch: 28 [0/50000 (0%)]\tLoss: 0.021916\n",
      "Train Epoch: 28 [10000/50000 (20%)]\tLoss: 0.019936\n",
      "Train Epoch: 28 [20000/50000 (40%)]\tLoss: 0.021940\n",
      "Train Epoch: 28 [30000/50000 (60%)]\tLoss: 0.010939\n",
      "Train Epoch: 28 [40000/50000 (80%)]\tLoss: 0.031478\n",
      "\n",
      "Average loss: 0.0441, Accuracy: 9881/10000 (98.8100%)\n",
      "\n",
      "Train Epoch: 29 [0/50000 (0%)]\tLoss: 0.015474\n",
      "Train Epoch: 29 [10000/50000 (20%)]\tLoss: 0.014100\n",
      "Train Epoch: 29 [20000/50000 (40%)]\tLoss: 0.018405\n",
      "Train Epoch: 29 [30000/50000 (60%)]\tLoss: 0.016726\n",
      "Train Epoch: 29 [40000/50000 (80%)]\tLoss: 0.017310\n",
      "\n",
      "Average loss: 0.0453, Accuracy: 9877/10000 (98.7700%)\n",
      "\n",
      "Train Epoch: 30 [0/50000 (0%)]\tLoss: 0.010478\n",
      "Train Epoch: 30 [10000/50000 (20%)]\tLoss: 0.024923\n",
      "Train Epoch: 30 [20000/50000 (40%)]\tLoss: 0.011567\n",
      "Train Epoch: 30 [30000/50000 (60%)]\tLoss: 0.021501\n",
      "Train Epoch: 30 [40000/50000 (80%)]\tLoss: 0.026448\n",
      "\n",
      "Average loss: 0.0443, Accuracy: 9879/10000 (98.7900%)\n",
      "\n",
      "\n",
      "Average loss: 0.0392, Accuracy: 9879/10000 (98.7900%)\n",
      "\n",
      "final test acc 98.79\n"
     ]
    }
   ],
   "source": [
    "best_valid_acc = 0\n",
    "for epoch in range(1, args.epochs + 1):\n",
    "  train(epoch, model, train_loader)\n",
    "  valid_acc = evaluate(model, valid_loader)\n",
    "  if valid_acc >= best_valid_acc:\n",
    "    best_valid_acc = valid_acc\n",
    "    best_model = copy.deepcopy(model)\n",
    "    print('best valid_acc', best_valid_acc * 100.)\n",
    "\n",
    "eval_acc = evaluate(best_model, test_loader)\n",
    "print('final test acc', eval_acc * 100.)"
   ]
  },
  {
   "cell_type": "code",
   "execution_count": 20,
   "metadata": {},
   "outputs": [
    {
     "name": "stdout",
     "output_type": "stream",
     "text": [
      "\n",
      "Average loss: 0.0373, Accuracy: 9885/10000 (98.8500%)\n",
      "\n",
      "final test acc 98.85000000000001\n"
     ]
    }
   ],
   "source": [
    "eval_acc = evaluate(model, test_loader)\n",
    "print('final test acc', eval_acc * 100.)"
   ]
  },
  {
   "cell_type": "code",
   "execution_count": 13,
   "metadata": {},
   "outputs": [
    {
     "name": "stdout",
     "output_type": "stream",
     "text": [
      "torch.Size([8, 1, 5, 5])\n",
      "torch.Size([8])\n",
      "torch.Size([16, 8, 5, 5])\n",
      "torch.Size([16])\n",
      "torch.Size([10, 784])\n",
      "torch.Size([10])\n",
      "11274\n"
     ]
    }
   ],
   "source": [
    "param_count = 0\n",
    "for param in model.parameters():\n",
    "  print(param.data.shape)\n",
    "  param_count += np.product(param.data.shape)\n",
    "print(param_count)"
   ]
  },
  {
   "cell_type": "code",
   "execution_count": 14,
   "metadata": {
    "collapsed": true
   },
   "outputs": [],
   "source": [
    "orig_params = []\n",
    "for param in orig_model.parameters():\n",
    "  orig_params.append(param.data.cpu().numpy().flatten())"
   ]
  },
  {
   "cell_type": "code",
   "execution_count": 15,
   "metadata": {
    "collapsed": true
   },
   "outputs": [],
   "source": [
    "orig_params_flat = np.concatenate(orig_params)"
   ]
  },
  {
   "cell_type": "code",
   "execution_count": 16,
   "metadata": {
    "collapsed": true
   },
   "outputs": [],
   "source": [
    "import matplotlib.pyplot as plt"
   ]
  },
  {
   "cell_type": "code",
   "execution_count": 17,
   "metadata": {},
   "outputs": [
    {
     "data": {
      "image/png": "[encoded data removed]",
      "text/plain": [
       "<matplotlib.figure.Figure at 0x7f238898fcf8>"
      ]
     },
     "metadata": {},
     "output_type": "display_data"
    }
   ],
   "source": [
    "_ = plt.hist(orig_params_flat, bins=200)\n",
    "plt.show()"
   ]
  },
  {
   "cell_type": "code",
   "execution_count": 18,
   "metadata": {
    "collapsed": true
   },
   "outputs": [],
   "source": [
    "final_params = []\n",
    "for param in best_model.parameters():\n",
    "  final_params.append(param.data.cpu().numpy().flatten())\n",
    "final_params_flat = np.concatenate(final_params)"
   ]
  },
  {
   "cell_type": "code",
   "execution_count": 19,
   "metadata": {},
   "outputs": [
    {
     "data": {
      "image/png": "[encoded data removed]",
      "text/plain": [
       "<matplotlib.figure.Figure at 0x7f23886307f0>"
      ]
     },
     "metadata": {},
     "output_type": "display_data"
    }
   ],
   "source": [
    "_ = plt.hist(final_params_flat, bins=200)\n",
    "plt.show()"
   ]
  },
  {
   "cell_type": "code",
   "execution_count": null,
   "metadata": {
    "collapsed": true
   },
   "outputs": [],
   "source": []
  }
 ],
 "metadata": {
  "kernelspec": {
   "display_name": "Python 3",
   "language": "python",
   "name": "python3"
  },
  "language_info": {
   "codemirror_mode": {
    "name": "ipython",
    "version": 3
   },
   "file_extension": ".py",
   "mimetype": "text/x-python",
   "name": "python",
   "nbconvert_exporter": "python",
   "pygments_lexer": "ipython3",
   "version": "3.6.1"
  }
 },
 "nbformat": 4,
 "nbformat_minor": 2
}
